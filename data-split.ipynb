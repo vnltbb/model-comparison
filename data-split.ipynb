{
 "cells": [
  {
   "cell_type": "markdown",
   "id": "e4a58edd",
   "metadata": {},
   "source": [
    "## data split\n",
    "### import module"
   ]
  },
  {
   "cell_type": "code",
   "execution_count": null,
   "id": "8a723ee6",
   "metadata": {},
   "outputs": [],
   "source": [
    "import os, shutil\n",
    "from sklearn.model_selection import train_test_split"
   ]
  },
  {
   "cell_type": "markdown",
   "id": "d794eb91",
   "metadata": {},
   "source": [
    "### dir setting🔧"
   ]
  },
  {
   "cell_type": "code",
   "execution_count": null,
   "id": "50ed69c4",
   "metadata": {},
   "outputs": [],
   "source": [
    "ORIGINAL_DATASET_DIR = \"/Volumes/PortableSSD/data\" \n",
    "BASE_OUTPUT_DIR = \"/Users/vnlt/PROJECT/1st-experimet-tf/split_dataset/No-1\""
   ]
  },
  {
   "cell_type": "markdown",
   "id": "5ba928b2",
   "metadata": {},
   "source": [
    "### ratio setting"
   ]
  },
  {
   "cell_type": "code",
   "execution_count": null,
   "id": "5d14820d",
   "metadata": {},
   "outputs": [],
   "source": [
    "train_ratio, val_ratio, test_ratio = 0.7, 0.15, 0.15"
   ]
  },
  {
   "cell_type": "code",
   "execution_count": null,
   "id": "baf5ed74",
   "metadata": {},
   "outputs": [
    {
     "name": "stdout",
     "output_type": "stream",
     "text": [
      "✅ 클래스별 동일 개수로 데이터셋 분할 완료. 경로: /Users/vnlt/PROJECT/1st-experimet-tf/split_dataset/No-1\n"
     ]
    }
   ],
   "source": [
    "\n",
    "\n",
    "# 1. 각 클래스별 이미지 개수 파악\n",
    "class_image_counts = []\n",
    "for cls in os.listdir(ORIGINAL_DATASET_DIR):\n",
    "    cls_path = os.path.join(ORIGINAL_DATASET_DIR, cls)\n",
    "    if not os.path.isdir(cls_path):\n",
    "        continue\n",
    "    images = os.listdir(cls_path)\n",
    "    class_image_counts.append(len(images))\n",
    "\n",
    "min_count = min(class_image_counts)  # 모든 클래스 중 최소 이미지 개수\n",
    "\n",
    "# 2. 각 클래스별로 min_count만큼만 랜덤 샘플링 후 분할\n",
    "for cls in os.listdir(ORIGINAL_DATASET_DIR):\n",
    "    cls_path = os.path.join(ORIGINAL_DATASET_DIR, cls)\n",
    "    if not os.path.isdir(cls_path):\n",
    "        continue\n",
    "\n",
    "    images = os.listdir(cls_path)\n",
    "    np.random.shuffle(images)\n",
    "    images = images[:min_count]  # 최소 개수만큼만 사용\n",
    "\n",
    "    train_imgs, temp_imgs = train_test_split(images, train_size=train_ratio)\n",
    "    val_imgs, test_imgs = train_test_split(temp_imgs, test_size=test_ratio/(val_ratio+test_ratio))\n",
    "\n",
    "    for category, category_imgs in zip(['train', 'val', 'test'], [train_imgs, val_imgs, test_imgs]):\n",
    "        save_path = os.path.join(BASE_OUTPUT_DIR, category, cls)\n",
    "        os.makedirs(save_path, exist_ok=True)\n",
    "        for img in category_imgs:\n",
    "            shutil.copy(os.path.join(cls_path, img), os.path.join(save_path, img))\n",
    "\n",
    "print(\"✅ 클래스별 동일 개수로 데이터셋 분할 완료. 경로:\", BASE_OUTPUT_DIR)\n"
   ]
  }
 ],
 "metadata": {
  "language_info": {
   "name": "python"
  }
 },
 "nbformat": 4,
 "nbformat_minor": 5
}
