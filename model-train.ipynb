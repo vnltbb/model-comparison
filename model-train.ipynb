{
 "cells": [
  {
   "cell_type": "markdown",
   "id": "f0da00c6",
   "metadata": {},
   "source": [
    "## module "
   ]
  },
  {
   "cell_type": "code",
   "execution_count": null,
   "id": "57114962",
   "metadata": {
    "vscode": {
     "languageId": "bat"
    }
   },
   "outputs": [],
   "source": [
    "!pip install tensorflow scikit-learn pandas matplotlib seaborn opencv-python"
   ]
  },
  {
   "cell_type": "code",
   "execution_count": null,
   "id": "d7ee9989",
   "metadata": {},
   "outputs": [],
   "source": [
    "import os\n",
    "import numpy as np\n",
    "import pandas as pd\n",
    "import matplotlib.pyplot as plt\n",
    "import seaborn as sns\n",
    "import cv2\n",
    "from sklearn.metrics import classification_report, confusion_matrix, roc_auc_score, roc_curve\n",
    "from tensorflow.keras.preprocessing.image import ImageDataGenerator\n",
    "from tensorflow.keras.applications import MobileNetV2, EfficientNetB0, ResNet50, DenseNet121\n",
    "from tensorflow.keras.applications.mobilenet_v2 import preprocess_input as mobilenet_preprocess\n",
    "from tensorflow.keras.models import Model\n",
    "from tensorflow.keras.layers import Dense, GlobalAveragePooling2D, Input\n",
    "from tensorflow.keras.optimizers import Adam\n",
    "from tensorflow.keras.callbacks import EarlyStopping, ModelCheckpoint\n",
    "import tensorflow as tf"
   ]
  },
  {
   "cell_type": "markdown",
   "id": "bfafa54f",
   "metadata": {},
   "source": [
    "## dataset 🔧"
   ]
  },
  {
   "cell_type": "code",
   "execution_count": null,
   "id": "70dbcb41",
   "metadata": {},
   "outputs": [],
   "source": [
    "# dataset split\n",
    "import os, shutil\n",
    "from sklearn.model_selection import train_test_split\n",
    "\n",
    "# 🔧 데이터셋 원본 경로 (클래스별 디렉토리만 존재)\n",
    "ORIGINAL_DATASET_DIR = \"/your_data_root\"  # 🔧 수정 필요\n",
    "BASE_OUTPUT_DIR = \"/split_dataset\"        # 🔧 분할된 결과 저장 경로\n",
    "\n",
    "# 비율 설정\n",
    "train_ratio, val_ratio, test_ratio = 0.7, 0.15, 0.15\n",
    "\n",
    "# 경로 초기화\n",
    "if not os.path.exists(BASE_OUTPUT_DIR):\n",
    "    os.makedirs(BASE_OUTPUT_DIR)\n",
    "\n",
    "for cls in os.listdir(ORIGINAL_DATASET_DIR):\n",
    "    cls_path = os.path.join(ORIGINAL_DATASET_DIR, cls)\n",
    "    if not os.path.isdir(cls_path):\n",
    "        continue\n",
    "\n",
    "    images = os.listdir(cls_path)\n",
    "    train_imgs, temp_imgs = train_test_split(images, train_size=train_ratio, random_state=42)\n",
    "    val_imgs, test_imgs = train_test_split(temp_imgs, test_size=test_ratio/(val_ratio+test_ratio), random_state=42)\n",
    "\n",
    "    for category, category_imgs in zip(['train', 'val', 'test'], [train_imgs, val_imgs, test_imgs]):\n",
    "        save_path = os.path.join(BASE_OUTPUT_DIR, category, cls)\n",
    "        os.makedirs(save_path, exist_ok=True)\n",
    "        for img in category_imgs:\n",
    "            shutil.copy(os.path.join(cls_path, img), os.path.join(save_path, img))\n",
    "\n",
    "print(\"✅ 데이터셋 분할 완료. 경로:\", BASE_OUTPUT_DIR)\n"
   ]
  },
  {
   "cell_type": "code",
   "execution_count": null,
   "id": "f5734736",
   "metadata": {},
   "outputs": [],
   "source": [
    "# mapping preprocess per model\n",
    "preprocess_map = {\n",
    "    \"MobileNetV2\": mobilenet_preprocess,\n",
    "    \"EfficientNetB0\": efficientnet_preprocess,\n",
    "    \"ResNet50\": resnet_preprocess,\n",
    "    \"DenseNet121\": densenet_preprocess\n",
    "}"
   ]
  },
  {
   "cell_type": "code",
   "execution_count": null,
   "id": "e6f9b1a1",
   "metadata": {},
   "outputs": [],
   "source": [
    "# data generators with preprocessing\n",
    "def get_data_generators(model_name, data_dir, img_size=(224, 224), batch_size=32):\n",
    "    preprocess_func = preprocess_map[model_name]\n",
    "    \n",
    "    train_datagen = ImageDataGenerator(\n",
    "        preprocessing_function=preprocess_func,\n",
    "        rotation_range=15,\n",
    "        horizontal_flip=True,\n",
    "        brightness_range=[0.8, 1.2],\n",
    "        validation_split=0.2\n",
    "    )\n",
    "\n",
    "    val_datagen = ImageDataGenerator(\n",
    "        preprocessing_function=preprocess_func,\n",
    "        validation_split=0.2\n",
    "    )\n",
    "\n",
    "    train_gen = train_datagen.flow_from_directory(\n",
    "        os.path.join(data_dir, \"train\"),\n",
    "        target_size=img_size,\n",
    "        batch_size=batch_size,\n",
    "        class_mode='categorical',\n",
    "        subset='training'\n",
    "    )\n",
    "\n",
    "    val_gen = val_datagen.flow_from_directory(\n",
    "        os.path.join(data_dir, \"train\"),\n",
    "        target_size=img_size,\n",
    "        batch_size=batch_size,\n",
    "        class_mode='categorical',\n",
    "        subset='validation'\n",
    "    )\n",
    "\n",
    "    test_gen = ImageDataGenerator(preprocessing_function=preprocess_func).flow_from_directory(\n",
    "        os.path.join(data_dir, \"test\"),\n",
    "        target_size=img_size,\n",
    "        batch_size=batch_size,\n",
    "        class_mode='categorical',\n",
    "        shuffle=False\n",
    "    )\n",
    "\n",
    "    return train_gen, val_gen, test_gen"
   ]
  },
  {
   "cell_type": "markdown",
   "id": "85578b72",
   "metadata": {},
   "source": [
    "## base model"
   ]
  },
  {
   "cell_type": "code",
   "execution_count": null,
   "id": "6d32497f",
   "metadata": {},
   "outputs": [],
   "source": [
    "def build_model(base, input_shape, n_classes):\n",
    "    input_tensor = Input(shape=input_shape + (3,))\n",
    "    base_model = base(include_top=False, weights='imagenet', input_tensor=input_tensor)\n",
    "    x = GlobalAveragePooling2D()(base_model.output)\n",
    "    output = Dense(n_classes, activation='softmax')(x)\n",
    "    model = Model(inputs=base_model.input, outputs=output)\n",
    "    return model\n"
   ]
  },
  {
   "cell_type": "markdown",
   "id": "ec170c11",
   "metadata": {},
   "source": [
    "## train"
   ]
  },
  {
   "cell_type": "markdown",
   "id": "16dada37",
   "metadata": {},
   "source": [
    "### train setting 🔧"
   ]
  },
  {
   "cell_type": "code",
   "execution_count": null,
   "id": "dd6aea05",
   "metadata": {},
   "outputs": [],
   "source": [
    "# 🔧 실행할 모델 이름 설정\n",
    "model_name = \"MobileNetV2\"\n",
    "base_models = {\n",
    "    \"MobileNetV2\": MobileNetV2,\n",
    "    \"EfficientNetB0\": EfficientNetB0,\n",
    "    \"ResNet50\": ResNet50,\n",
    "    \"DenseNet121\": DenseNet121\n",
    "}"
   ]
  },
  {
   "cell_type": "markdown",
   "id": "c1b6cd00",
   "metadata": {},
   "source": [
    "### traing and evaluation"
   ]
  },
  {
   "cell_type": "code",
   "execution_count": null,
   "id": "76e4ab06",
   "metadata": {},
   "outputs": [],
   "source": [
    "train_gen, val_gen, test_gen = get_data_generators(model_name, BASE_OUTPUT_DIR)\n",
    "input_shape = (224, 224)\n",
    "n_classes = train_gen.num_classes\n",
    "\n",
    "model = build_model(base_models[model_name], input_shape, n_classes)\n",
    "model.compile(optimizer=Adam(1e-4), loss='categorical_crossentropy', metrics=['accuracy'])\n",
    "\n",
    "ckpt = ModelCheckpoint(f'{model_name}.h5', save_best_only=True, monitor='val_accuracy')\n",
    "early = EarlyStopping(patience=5, restore_best_weights=True)\n",
    "\n",
    "history = model.fit(\n",
    "    train_gen,\n",
    "    validation_data=val_gen,\n",
    "    epochs=30,\n",
    "    callbacks=[ckpt, early]\n",
    ")\n",
    "\n",
    "# 평가\n",
    "test_gen.reset()\n",
    "pred_probs = model.predict(test_gen)\n",
    "y_true = test_gen.classes\n",
    "y_pred = np.argmax(pred_probs, axis=1)\n",
    "class_names = list(test_gen.class_indices.keys())\n",
    "\n",
    "report = classification_report(y_true, y_pred, target_names=class_names, output_dict=True)\n",
    "cm = confusion_matrix(y_true, y_pred)\n"
   ]
  },
  {
   "cell_type": "markdown",
   "id": "c8a0c301",
   "metadata": {},
   "source": [
    "## visualization, result save"
   ]
  },
  {
   "cell_type": "code",
   "execution_count": null,
   "id": "b1fe6427",
   "metadata": {},
   "outputs": [],
   "source": [
    "# confusion matrix, train history, classification report\n",
    "def plot_confusion_matrix(cm, class_names, title, save_path=None):\n",
    "    plt.figure(figsize=(6,6))\n",
    "    sns.heatmap(cm, annot=True, fmt='d', cmap='Blues',\n",
    "                xticklabels=class_names, yticklabels=class_names)\n",
    "    plt.xlabel('Predicted')\n",
    "    plt.ylabel('True')\n",
    "    plt.title(title)\n",
    "    if save_path:\n",
    "        plt.savefig(save_path)\n",
    "    plt.show()\n",
    "\n",
    "def plot_train_history(history, title_prefix, save_path=None):\n",
    "    plt.figure(figsize=(12,4))\n",
    "    plt.subplot(1,2,1)\n",
    "    plt.plot(history.history['accuracy'], label='Train Acc')\n",
    "    plt.plot(history.history['val_accuracy'], label='Val Acc')\n",
    "    plt.title(f'{title_prefix} Accuracy')\n",
    "    plt.legend()\n",
    "    plt.subplot(1,2,2)\n",
    "    plt.plot(history.history['loss'], label='Train Loss')\n",
    "    plt.plot(history.history['val_loss'], label='Val Loss')\n",
    "    plt.title(f'{title_prefix} Loss')\n",
    "    plt.legend()\n",
    "    if save_path:\n",
    "        plt.savefig(save_path)\n",
    "    plt.show()\n",
    "\n",
    "def save_results(model_name, history, cm, class_names, report):\n",
    "    result_dir = f\"result/{model_name}-result\"\n",
    "    os.makedirs(result_dir, exist_ok=True)\n",
    "\n",
    "    plot_confusion_matrix(cm, class_names, title=f'{model_name} Confusion Matrix',\n",
    "                          save_path=os.path.join(result_dir, \"confusion_matrix.png\"))\n",
    "    plot_train_history(history, title_prefix=model_name,\n",
    "                       save_path=os.path.join(result_dir, \"accuracy_loss.png\"))\n",
    "    with open(os.path.join(result_dir, \"classification_report.json\"), \"w\") as f:\n",
    "        json.dump(report, f, indent=4)\n"
   ]
  },
  {
   "cell_type": "code",
   "execution_count": null,
   "id": "fb38f758",
   "metadata": {},
   "outputs": [],
   "source": [
    "# top-3 accuracy\n",
    "\n",
    "def show_top_misclassified(y_true, y_pred, probs, class_names, generator, model_name, save_dir, top_n=3):\n",
    "    error_indices = np.where(y_true != y_pred)[0]\n",
    "    confidence_errors = probs[error_indices, y_pred[error_indices]]\n",
    "    sorted_idx = error_indices[np.argsort(confidence_errors)[-top_n:][::-1]]\n",
    "\n",
    "    os.makedirs(save_dir, exist_ok=True)\n",
    "\n",
    "    for i, idx in enumerate(sorted_idx):\n",
    "        img_path = generator.filepaths[idx]\n",
    "        img = cv2.imread(img_path)\n",
    "        img = cv2.cvtColor(img, cv2.COLOR_BGR2RGB)\n",
    "\n",
    "        plt.figure(figsize=(4, 4))\n",
    "        plt.imshow(img)\n",
    "        plt.title(\n",
    "            f\"True: {class_names[y_true[idx]]}\\nPred: {class_names[y_pred[idx]]}\\nConf: {confidence_errors[i]:.2f}\"\n",
    "        )\n",
    "        plt.axis('off')\n",
    "\n",
    "        save_path = os.path.join(save_dir, f\"misclassified_{i+1}.png\")\n",
    "        plt.savefig(save_path)\n",
    "        plt.show()\n",
    "\n",
    "    print(f\"✅ 오분류 top-{top_n} 이미지 저장 완료: {save_dir}\")\n"
   ]
  },
  {
   "cell_type": "code",
   "execution_count": null,
   "id": "a9241880",
   "metadata": {},
   "outputs": [],
   "source": [
    "# results \n",
    "save_results(model_name, history, cm, class_names, report)\n",
    "show_top_misclassified(\n",
    "    y_true=y_true,\n",
    "    y_pred=y_pred,\n",
    "    probs=pred_probs,\n",
    "    class_names=class_names,\n",
    "    generator=test_gen,\n",
    "    model_name=model_name,\n",
    "    save_dir=f\"result/{model_name}-result\",\n",
    "    top_n=3\n",
    ")\n",
    "print(f\"\\u2705 저장 완료: result/{model_name}-result\")"
   ]
  }
 ],
 "metadata": {
  "language_info": {
   "name": "python"
  }
 },
 "nbformat": 4,
 "nbformat_minor": 5
}
