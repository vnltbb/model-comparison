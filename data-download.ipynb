{
 "cells": [
  {
   "cell_type": "code",
   "execution_count": null,
   "id": "b3312609",
   "metadata": {
    "vscode": {
     "languageId": "plaintext"
    }
   },
   "outputs": [],
   "source": [
    "!pip download kaggle\n",
    "\n",
    "!kaggle datasets download -d emmarex/plantdisease\n",
    "!unzip plantdisease.zip"
   ]
  },
  {
   "cell_type": "code",
   "execution_count": null,
   "id": "0e73860a",
   "metadata": {
    "vscode": {
     "languageId": "plaintext"
    }
   },
   "outputs": [],
   "source": [
    "!mv PlantVillage/Tomato___YellowLeaf__Curl_Virus ./data/\n",
    "!mv PlantVillage/Tomato___Mosaic_virus ./data/\n",
    "!mv PlantVillage/Tomato___Septoria_leaf_spot ./data/\n",
    "!mv PlantVillage/Tomato___Bacterial_spot ./data/\n",
    "!mv PlantVillage/Tomato___Leaf_Mold ./data/\n",
    "!mv PlantVillage/Tomato___Healthy ./data/"
   ]
  }
 ],
 "metadata": {
  "language_info": {
   "name": "python"
  }
 },
 "nbformat": 4,
 "nbformat_minor": 5
}
